{
 "cells": [
  {
   "cell_type": "code",
   "execution_count": null,
   "id": "6be4a6ee-f21b-4bef-99ba-f36540087854",
   "metadata": {},
   "outputs": [],
   "source": [
    "Q1. What is Statistics?"
   ]
  },
  {
   "cell_type": "code",
   "execution_count": null,
   "id": "e53245bc-bbae-4c70-bb36-3528aded6771",
   "metadata": {},
   "outputs": [],
   "source": [
    "Statistics is the science of connecting ,organising and analyzing data."
   ]
  },
  {
   "cell_type": "code",
   "execution_count": null,
   "id": "511c6338-c254-4270-a521-a25195a7821e",
   "metadata": {},
   "outputs": [],
   "source": [
    "Q2. Define the different types of statistics and give an example of when each type might be used."
   ]
  },
  {
   "cell_type": "code",
   "execution_count": null,
   "id": "69fa57f8-a729-44fd-99b8-91dfbf23c65a",
   "metadata": {},
   "outputs": [],
   "source": [
    "*Descriptive statistics :-\n",
    " In consists of organizing and summarizing data.\n",
    "    example:-Mean: The average value of a dataset. For example, calculating the mean salary of employees in a company\n",
    "             Median: The middle value of a dataset when it is arranged in ascending or descending order."
   ]
  },
  {
   "cell_type": "code",
   "execution_count": null,
   "id": "7647c780-23ec-4965-85fd-924c806b24c7",
   "metadata": {},
   "outputs": [],
   "source": [
    "*Inferential statistics:-\n",
    " It consists of using data you have measured to form conclusion .\n",
    "    example:-conducting a t-test to compare the effectiveness of two different treatments.\n",
    "             constructing a confidence interval to estimate the average weight of a certain animal species in a habitat."
   ]
  },
  {
   "cell_type": "code",
   "execution_count": null,
   "id": "d6a20c63-5816-487b-948e-1f8071e49406",
   "metadata": {},
   "outputs": [],
   "source": [
    "Q3. What are the different types of data and how do they differ from each other? Provide an example of\n",
    "each type of data."
   ]
  },
  {
   "cell_type": "code",
   "execution_count": null,
   "id": "fc21cc4c-f9f2-473f-a662-f729164b2f13",
   "metadata": {},
   "outputs": [],
   "source": [
    "There are two types of data \n",
    "1)Quantitave data\n",
    "2)Qualitative data\n",
    "=> Qualitative data is categorical while quantitative data is numerical."
   ]
  },
  {
   "cell_type": "code",
   "execution_count": null,
   "id": "7189f53a-d47f-441b-b5f1-e78be27f9104",
   "metadata": {},
   "outputs": [],
   "source": [
    "Qualitative data example:-gender,Blood group,pin code,customer feedback(bad,good,best) etc.\n",
    "Quantative data example;-No.of bank account,No.of children in a family,weight,speed,Temperature etc."
   ]
  },
  {
   "cell_type": "code",
   "execution_count": null,
   "id": "9840130d-1008-4d7a-ae96-3402d250a8ac",
   "metadata": {},
   "outputs": [],
   "source": [
    "Q4. Categorise the following datasets with respect to quantitative and qualitative data types:\n",
    "(i) Grading in exam: A+, A, B+, B, C+, C, D, E\n",
    "(ii) Colour of mangoes: yellow, green, orange, red\n",
    "(iii) Height data of a class: [178.9, 179, 179.5, 176, 177.2, 178.3, 175.8,...]\n",
    "(iv) Number of mangoes exported by a farm: [500, 600, 478, 672, ...]"
   ]
  },
  {
   "cell_type": "code",
   "execution_count": null,
   "id": "5ab9d90e-ecac-4593-9dab-565e1ea05e55",
   "metadata": {},
   "outputs": [],
   "source": [
    "(i) and (ii) are examples of qualitative data.\n",
    "(iii) and (iv) are examples of quantitative data."
   ]
  },
  {
   "cell_type": "code",
   "execution_count": null,
   "id": "ff45ec93-7df1-4ca4-b715-345058d22ce6",
   "metadata": {},
   "outputs": [],
   "source": [
    "Q5. Explain the concept of levels of measurement and give an example of a variable for each level."
   ]
  },
  {
   "cell_type": "code",
   "execution_count": null,
   "id": "9c525488-04f8-45b0-aca0-ecd2ffcc9002",
   "metadata": {},
   "outputs": [],
   "source": [
    "Levels of measurement, also known as scales of measurement, refer to the different ways in which variables can be measured \n",
    "or categorized. There are four main levels of measurement: nominal, ordinal, interval, and ratio."
   ]
  },
  {
   "cell_type": "code",
   "execution_count": null,
   "id": "a739ecb3-6a40-4100-9434-a24c75ce8721",
   "metadata": {},
   "outputs": [],
   "source": [
    "*Nominal Level:\n",
    "    Hair color,Marital status,Blood type etc\n",
    "*Ordinal Level:\n",
    "    Educational attainment,Customer feedback,etc    "
   ]
  },
  {
   "cell_type": "code",
   "execution_count": null,
   "id": "daadb61a-389b-4818-bd80-cec206a066e8",
   "metadata": {},
   "outputs": [],
   "source": [
    "Q6. Why is it important to understand the level of measurement when analyzing data? Provide an\n",
    "example to illustrate your answer."
   ]
  },
  {
   "cell_type": "code",
   "execution_count": null,
   "id": "2234cedf-1bc2-482c-9cae-dc2baa7cc316",
   "metadata": {},
   "outputs": [],
   "source": [
    "It is because it determines the appropriate statistical techniques that can be applied and the meaningfulness of the results \n",
    "obtained.Examples:-\n",
    "                  Suppose you are conducting a survey to assess customer satisfaction with a product. The survey include\n",
    "                  questions with different levels of measurement:\n",
    "                  Nominal Level: \"Which color option did you choose?\" (Responses: Red, Blue, Green)\n",
    "                  Ordinal Level: \"Rate your overall satisfaction with the product.\" (Responses: Very Satisfied,\n",
    "                                                                         Satisfied, Neutral, Dissatisfied, Very Dissatisfied)\n",
    "                    "
   ]
  },
  {
   "cell_type": "code",
   "execution_count": null,
   "id": "6cada61a-d2f3-4086-a400-a6c3fe9ae361",
   "metadata": {},
   "outputs": [],
   "source": [
    "Q7. How nominal data type is different from ordinal data type."
   ]
  },
  {
   "cell_type": "code",
   "execution_count": null,
   "id": "db0c0f4e-70cd-4d5c-9f83-9d435b2d2242",
   "metadata": {},
   "outputs": [],
   "source": [
    "=>Nominal data represents categories or labels without any inherent order or numerical value.\n",
    "=>Ordinal data also represents categories or labels, but these categories have a natural order or hierarchy."
   ]
  },
  {
   "cell_type": "code",
   "execution_count": null,
   "id": "619c24cb-bd68-40f2-9097-963d2f18f8f7",
   "metadata": {},
   "outputs": [],
   "source": [
    "Q8. Which type of plot can be used to display data in terms of range?"
   ]
  },
  {
   "cell_type": "code",
   "execution_count": null,
   "id": "99609958-4ac7-4ebd-b1b1-1f6ab7b3fbb2",
   "metadata": {},
   "outputs": [],
   "source": [
    "Box plot can be used to display data in terms of ranges."
   ]
  },
  {
   "cell_type": "code",
   "execution_count": null,
   "id": "4620ab60-a232-4d82-91df-1b92eb78df5b",
   "metadata": {},
   "outputs": [],
   "source": [
    "Q9. Describe the difference between descriptive and inferential statistics. Give an example of each\n",
    "type of statistics and explain how they are used."
   ]
  },
  {
   "cell_type": "code",
   "execution_count": null,
   "id": "08562a4a-514b-44a3-bed5-16abcd2d0034",
   "metadata": {},
   "outputs": [],
   "source": [
    "*Descriptive statistics :-\n",
    " In consists of organizing and summarizing data.\n",
    "Example: Suppose you have a dataset of test scores of students in a class. Descriptive statistics can be used to \n",
    " calculate the mean, median, and standard deviation of the scores, providing information about the average \n",
    "performance, the middle score, and the spread of scores in the class. Additionally, a histogram can be created to \n",
    " visualize the distribution of the scores, giving insights into how the scores are distributed across different ranges."
   ]
  },
  {
   "cell_type": "code",
   "execution_count": null,
   "id": "43200055-9775-403e-b79f-53c77a73888b",
   "metadata": {},
   "outputs": [],
   "source": [
    "*Inferential statistics:-\n",
    " It consists of using data you have measured to form conclusion .\n",
    "Example:- Suppose you want to determine if there is a significant difference in the average test scores of two groups of \n",
    "students, Group A and Group B. Inferential statistics can be used to conduct a t-test to compare the means of the two groups.\n",
    " Based on the results of the t-test, you can infer whether the observed difference in means is statistically significant or \n",
    "occurred by chance. This inference allows you to make conclusions about the larger population from which the sample was drawn."
   ]
  },
  {
   "cell_type": "code",
   "execution_count": null,
   "id": "0ceaee01-33ad-4e47-9277-2a4300f33c22",
   "metadata": {},
   "outputs": [],
   "source": [
    "Q10. What are some common measures of central tendency and variability used in statistics? Explain\n",
    "how each measure can be used to describe a dataset."
   ]
  },
  {
   "cell_type": "code",
   "execution_count": null,
   "id": "796a6052-964e-4665-ba28-f56376bd4b8c",
   "metadata": {},
   "outputs": [],
   "source": [
    "*Mean: The mean is the average value of a dataset. It is calculated by summing all the values and dividing by the total number \n",
    " of observations. The mean represents the typical or average value in the dataset. However, it can be sensitive to outliers \n",
    "     and extreme values.\n",
    "*Median: The median is the middle value in a dataset when it is arranged in ascending or descending order. \n",
    " It divides the dataset into two equal halves. The median is less affected by extreme values and provides a measure of the \n",
    "     central position in the dataset.\n",
    "*Mode: The mode is the value or values that appear most frequently in a dataset. It represents the most common or prevalent \n",
    " value(s). The mode is particularly useful for categorical or nominal data, where it identifies the most occurring category."
   ]
  },
  {
   "cell_type": "code",
   "execution_count": null,
   "id": "89225395-b23c-46a8-97ee-35caae864e09",
   "metadata": {},
   "outputs": [],
   "source": [
    "Random variable:-\n",
    "                Random variable is a process of mapping the output of a random process or experiment to a number.\n",
    "    examples:-The number of heads obtained when flipping a coin multiple times.\n",
    "              The number of students in a classroom.\n",
    "              The number of goals scored in a soccer match."
   ]
  }
 ],
 "metadata": {
  "kernelspec": {
   "display_name": "Python 3 (ipykernel)",
   "language": "python",
   "name": "python3"
  },
  "language_info": {
   "codemirror_mode": {
    "name": "ipython",
    "version": 3
   },
   "file_extension": ".py",
   "mimetype": "text/x-python",
   "name": "python",
   "nbconvert_exporter": "python",
   "pygments_lexer": "ipython3",
   "version": "3.10.8"
  }
 },
 "nbformat": 4,
 "nbformat_minor": 5
}
